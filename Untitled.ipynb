{
 "cells": [
  {
   "cell_type": "markdown",
   "id": "6a81d155",
   "metadata": {},
   "source": [
    "# ADS 599 Team 7 Final Project\n",
    "\n",
    "## Image Recognition For Pneumonia Detection using Chest X-Ray Images\n",
    "\n",
    "#### University of San Diego - Applied Data Science\n",
    "#### Chow, Eva\n",
    "#### Duan, Dingyi \n",
    "#### Tan, Abby\n",
    "\n",
    "#### Github Link: https://github.com/dingyiduan7/ADS599_Capstone_Image_Recognition"
   ]
  },
  {
   "cell_type": "code",
   "execution_count": null,
   "id": "f8d58be5",
   "metadata": {},
   "outputs": [],
   "source": []
  }
 ],
 "metadata": {
  "kernelspec": {
   "display_name": "Python 3 (ipykernel)",
   "language": "python",
   "name": "python3"
  },
  "language_info": {
   "codemirror_mode": {
    "name": "ipython",
    "version": 3
   },
   "file_extension": ".py",
   "mimetype": "text/x-python",
   "name": "python",
   "nbconvert_exporter": "python",
   "pygments_lexer": "ipython3",
   "version": "3.8.8"
  }
 },
 "nbformat": 4,
 "nbformat_minor": 5
}
